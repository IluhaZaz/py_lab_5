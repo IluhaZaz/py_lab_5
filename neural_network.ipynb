{
 "cells": [
  {
   "cell_type": "markdown",
   "metadata": {},
   "source": [
    "<h1>Лабораторная работа № 5</h1>"
   ]
  },
  {
   "cell_type": "markdown",
   "metadata": {},
   "source": [
    "Импорт необходимых модулей"
   ]
  },
  {
   "cell_type": "code",
   "execution_count": 3,
   "metadata": {},
   "outputs": [],
   "source": [
    "import torch\n",
    "import torch.nn as nn\n",
    "import torch.nn.functional as F\n",
    "import numpy as np\n",
    "import matplotlib.pyplot as plt\n",
    "import pandas as pd\n",
    "import dataframe_process as my_module\n",
    "import spacy\n",
    "\n",
    "from sklearn.feature_extraction.text import CountVectorizer\n",
    "from sklearn.model_selection import train_test_split\n",
    "from pymystem3 import Mystem\n",
    "from torch.autograd import Variable\n",
    "\n",
    "nlp = spacy.load(\"ru_core_news_md\")\n",
    "stopwords_ru = list(nlp.Defaults.stop_words)"
   ]
  },
  {
   "cell_type": "markdown",
   "metadata": {},
   "source": [
    "Загрузка обработанных данных"
   ]
  },
  {
   "cell_type": "code",
   "execution_count": 270,
   "metadata": {},
   "outputs": [
    {
     "data": {
      "text/html": [
       "<div>\n",
       "<style scoped>\n",
       "    .dataframe tbody tr th:only-of-type {\n",
       "        vertical-align: middle;\n",
       "    }\n",
       "\n",
       "    .dataframe tbody tr th {\n",
       "        vertical-align: top;\n",
       "    }\n",
       "\n",
       "    .dataframe thead th {\n",
       "        text-align: right;\n",
       "    }\n",
       "</style>\n",
       "<table border=\"1\" class=\"dataframe\">\n",
       "  <thead>\n",
       "    <tr style=\"text-align: right;\">\n",
       "      <th></th>\n",
       "      <th>Название</th>\n",
       "      <th>Тип рецензии</th>\n",
       "      <th>Текст рецензии</th>\n",
       "      <th>Количество слов</th>\n",
       "    </tr>\n",
       "  </thead>\n",
       "  <tbody>\n",
       "    <tr>\n",
       "      <th>0</th>\n",
       "      <td>Тьма</td>\n",
       "      <td>bad</td>\n",
       "      <td>вчера наконец досматривать тьма сразу сказать ...</td>\n",
       "      <td>667</td>\n",
       "    </tr>\n",
       "    <tr>\n",
       "      <th>1</th>\n",
       "      <td>Тьма</td>\n",
       "      <td>bad</td>\n",
       "      <td>я писать данный ревивать исключительно потому ...</td>\n",
       "      <td>625</td>\n",
       "    </tr>\n",
       "    <tr>\n",
       "      <th>2</th>\n",
       "      <td>Тьма</td>\n",
       "      <td>bad</td>\n",
       "      <td>не быть описывать содержание нет смысл сразу к...</td>\n",
       "      <td>527</td>\n",
       "    </tr>\n",
       "    <tr>\n",
       "      <th>3</th>\n",
       "      <td>Тьма</td>\n",
       "      <td>bad</td>\n",
       "      <td>никогда такой не быть и вот опятьпоминаться в ...</td>\n",
       "      <td>337</td>\n",
       "    </tr>\n",
       "    <tr>\n",
       "      <th>4</th>\n",
       "      <td>Тьма</td>\n",
       "      <td>bad</td>\n",
       "      <td>о данный сериал я услышать совсем недавно и у ...</td>\n",
       "      <td>817</td>\n",
       "    </tr>\n",
       "    <tr>\n",
       "      <th>...</th>\n",
       "      <td>...</td>\n",
       "      <td>...</td>\n",
       "      <td>...</td>\n",
       "      <td>...</td>\n",
       "    </tr>\n",
       "    <tr>\n",
       "      <th>1995</th>\n",
       "      <td>1+1</td>\n",
       "      <td>good</td>\n",
       "      <td>начинать с тот что фильм у мы в страна показыв...</td>\n",
       "      <td>306</td>\n",
       "    </tr>\n",
       "    <tr>\n",
       "      <th>1996</th>\n",
       "      <td>1+1</td>\n",
       "      <td>good</td>\n",
       "      <td>легкость казаться бы она не мочь быть ни у чел...</td>\n",
       "      <td>307</td>\n",
       "    </tr>\n",
       "    <tr>\n",
       "      <th>1997</th>\n",
       "      <td>1+1</td>\n",
       "      <td>good</td>\n",
       "      <td>без всякий предисловие сразу сказать что это х...</td>\n",
       "      <td>349</td>\n",
       "    </tr>\n",
       "    <tr>\n",
       "      <th>1998</th>\n",
       "      <td>1+1</td>\n",
       "      <td>good</td>\n",
       "      <td>большинство французский фильм всегда наполнять...</td>\n",
       "      <td>338</td>\n",
       "    </tr>\n",
       "    <tr>\n",
       "      <th>1999</th>\n",
       "      <td>1+1</td>\n",
       "      <td>good</td>\n",
       "      <td>похоже это один из самый добрый и человечный ф...</td>\n",
       "      <td>319</td>\n",
       "    </tr>\n",
       "  </tbody>\n",
       "</table>\n",
       "<p>2000 rows × 4 columns</p>\n",
       "</div>"
      ],
      "text/plain": [
       "     Название Тип рецензии                                     Текст рецензии  \\\n",
       "0        Тьма          bad  вчера наконец досматривать тьма сразу сказать ...   \n",
       "1        Тьма          bad  я писать данный ревивать исключительно потому ...   \n",
       "2        Тьма          bad  не быть описывать содержание нет смысл сразу к...   \n",
       "3        Тьма          bad  никогда такой не быть и вот опятьпоминаться в ...   \n",
       "4        Тьма          bad  о данный сериал я услышать совсем недавно и у ...   \n",
       "...       ...          ...                                                ...   \n",
       "1995      1+1         good  начинать с тот что фильм у мы в страна показыв...   \n",
       "1996      1+1         good  легкость казаться бы она не мочь быть ни у чел...   \n",
       "1997      1+1         good  без всякий предисловие сразу сказать что это х...   \n",
       "1998      1+1         good  большинство французский фильм всегда наполнять...   \n",
       "1999      1+1         good  похоже это один из самый добрый и человечный ф...   \n",
       "\n",
       "      Количество слов  \n",
       "0                 667  \n",
       "1                 625  \n",
       "2                 527  \n",
       "3                 337  \n",
       "4                 817  \n",
       "...               ...  \n",
       "1995              306  \n",
       "1996              307  \n",
       "1997              349  \n",
       "1998              338  \n",
       "1999              319  \n",
       "\n",
       "[2000 rows x 4 columns]"
      ]
     },
     "execution_count": 270,
     "metadata": {},
     "output_type": "execute_result"
    }
   ],
   "source": [
    "data = pd.read_csv(\"data.csv\", )\n",
    "data"
   ]
  },
  {
   "cell_type": "markdown",
   "metadata": {},
   "source": [
    "Загрузка даныых в датасет из csv файла"
   ]
  },
  {
   "cell_type": "code",
   "execution_count": 243,
   "metadata": {},
   "outputs": [
    {
     "data": {
      "text/html": [
       "<div>\n",
       "<style scoped>\n",
       "    .dataframe tbody tr th:only-of-type {\n",
       "        vertical-align: middle;\n",
       "    }\n",
       "\n",
       "    .dataframe tbody tr th {\n",
       "        vertical-align: top;\n",
       "    }\n",
       "\n",
       "    .dataframe thead th {\n",
       "        text-align: right;\n",
       "    }\n",
       "</style>\n",
       "<table border=\"1\" class=\"dataframe\">\n",
       "  <thead>\n",
       "    <tr style=\"text-align: right;\">\n",
       "      <th></th>\n",
       "      <th>Тип рецензии</th>\n",
       "      <th>Текст рецензии</th>\n",
       "      <th>Количество слов</th>\n",
       "    </tr>\n",
       "  </thead>\n",
       "  <tbody>\n",
       "    <tr>\n",
       "      <th>Тьма</th>\n",
       "      <td>bad</td>\n",
       "      <td>Вчера, наконец, досмотрела «Тьму». Сразу скажу...</td>\n",
       "      <td>667</td>\n",
       "    </tr>\n",
       "    <tr>\n",
       "      <th>Тьма</th>\n",
       "      <td>bad</td>\n",
       "      <td>Я пишу данное ревью исключительно потому, что ...</td>\n",
       "      <td>625</td>\n",
       "    </tr>\n",
       "    <tr>\n",
       "      <th>Тьма</th>\n",
       "      <td>bad</td>\n",
       "      <td>Не буду описывать содержание, нет смысла. Сраз...</td>\n",
       "      <td>527</td>\n",
       "    </tr>\n",
       "    <tr>\n",
       "      <th>Тьма</th>\n",
       "      <td>bad</td>\n",
       "      <td>Никогда такого не было, и вот опять...\\n\\n\\n\\n...</td>\n",
       "      <td>337</td>\n",
       "    </tr>\n",
       "    <tr>\n",
       "      <th>Тьма</th>\n",
       "      <td>bad</td>\n",
       "      <td>О данном сериале я услышал совсем недавно, и у...</td>\n",
       "      <td>817</td>\n",
       "    </tr>\n",
       "    <tr>\n",
       "      <th>...</th>\n",
       "      <td>...</td>\n",
       "      <td>...</td>\n",
       "      <td>...</td>\n",
       "    </tr>\n",
       "    <tr>\n",
       "      <th>1+1</th>\n",
       "      <td>good</td>\n",
       "      <td>Начну с того, что фильм у нас в стране показал...</td>\n",
       "      <td>306</td>\n",
       "    </tr>\n",
       "    <tr>\n",
       "      <th>1+1</th>\n",
       "      <td>good</td>\n",
       "      <td>Легкость. Казалось бы, её не может быть ни у ч...</td>\n",
       "      <td>307</td>\n",
       "    </tr>\n",
       "    <tr>\n",
       "      <th>1+1</th>\n",
       "      <td>good</td>\n",
       "      <td>Без всяких предисловий сразу скажу, что это хо...</td>\n",
       "      <td>349</td>\n",
       "    </tr>\n",
       "    <tr>\n",
       "      <th>1+1</th>\n",
       "      <td>good</td>\n",
       "      <td>Большинство французский фильмов всегда наполне...</td>\n",
       "      <td>338</td>\n",
       "    </tr>\n",
       "    <tr>\n",
       "      <th>1+1</th>\n",
       "      <td>good</td>\n",
       "      <td>Похоже, это один из самых добрых и человечных ...</td>\n",
       "      <td>319</td>\n",
       "    </tr>\n",
       "  </tbody>\n",
       "</table>\n",
       "<p>2000 rows × 3 columns</p>\n",
       "</div>"
      ],
      "text/plain": [
       "     Тип рецензии                                     Текст рецензии  \\\n",
       "Тьма          bad  Вчера, наконец, досмотрела «Тьму». Сразу скажу...   \n",
       "Тьма          bad  Я пишу данное ревью исключительно потому, что ...   \n",
       "Тьма          bad  Не буду описывать содержание, нет смысла. Сраз...   \n",
       "Тьма          bad  Никогда такого не было, и вот опять...\\n\\n\\n\\n...   \n",
       "Тьма          bad  О данном сериале я услышал совсем недавно, и у...   \n",
       "...           ...                                                ...   \n",
       "1+1          good  Начну с того, что фильм у нас в стране показал...   \n",
       "1+1          good  Легкость. Казалось бы, её не может быть ни у ч...   \n",
       "1+1          good  Без всяких предисловий сразу скажу, что это хо...   \n",
       "1+1          good  Большинство французский фильмов всегда наполне...   \n",
       "1+1          good  Похоже, это один из самых добрых и человечных ...   \n",
       "\n",
       "     Количество слов  \n",
       "Тьма             667  \n",
       "Тьма             625  \n",
       "Тьма             527  \n",
       "Тьма             337  \n",
       "Тьма             817  \n",
       "...              ...  \n",
       "1+1              306  \n",
       "1+1              307  \n",
       "1+1              349  \n",
       "1+1              338  \n",
       "1+1              319  \n",
       "\n",
       "[2000 rows x 3 columns]"
      ]
     },
     "execution_count": 243,
     "metadata": {},
     "output_type": "execute_result"
    }
   ],
   "source": [
    "data = my_module.create_dataframe(\"c:\\\\Users\\\\Acer\\\\Documents\\\\py_lab_2\\\\annotations_3.csv\")\n",
    "data"
   ]
  },
  {
   "cell_type": "markdown",
   "metadata": {},
   "source": [
    "Предобработка датафрейма"
   ]
  },
  {
   "cell_type": "code",
   "execution_count": 39,
   "metadata": {},
   "outputs": [
    {
     "data": {
      "text/plain": [
       "Тьма    вчера наконец досматривать тьма сразу сказать ...\n",
       "Тьма    я писать данный ревивать исключительно потому ...\n",
       "Тьма    не быть описывать содержание нет смысл сразу к...\n",
       "Тьма    никогда такой не быть и вот опятьпоминаться в ...\n",
       "Тьма    о данный сериал я услышать совсем недавно и у ...\n",
       "                              ...                        \n",
       "1+1     начинать с тот что фильм у мы в страна показыв...\n",
       "1+1     легкость казаться бы она не мочь быть ни у чел...\n",
       "1+1     без всякий предисловие сразу сказать что это х...\n",
       "1+1     большинство французский фильм всегда наполнять...\n",
       "1+1     похоже это один из самый добрый и человечный ф...\n",
       "Name: Текст рецензии, Length: 2000, dtype: object"
      ]
     },
     "execution_count": 39,
     "metadata": {},
     "output_type": "execute_result"
    }
   ],
   "source": [
    "m = Mystem()\n",
    "data[\"Текст рецензии\"] = data[\"Текст рецензии\"].apply(my_module.del_trash)\n",
    "data[\"Текст рецензии\"] = data[\"Текст рецензии\"].apply(m.lemmatize)\n",
    "data[\"Текст рецензии\"] = data[\"Текст рецензии\"].apply(\"\".join)\n",
    "data[\"Текст рецензии\"] = data[\"Текст рецензии\"].apply(my_module.del_trash)\n",
    "change_labels = lambda x: 1 if x==\"good\" else 0\n",
    "data[\"Тип рецензии\"] = data[\"Тип рецензии\"].apply(change_labels)\n",
    "data"
   ]
  },
  {
   "cell_type": "markdown",
   "metadata": {},
   "source": [
    "Сохранение обработанного датафрейма в csv файл"
   ]
  },
  {
   "cell_type": "code",
   "execution_count": 40,
   "metadata": {},
   "outputs": [],
   "source": [
    "data.to_csv(\"data.csv\")"
   ]
  },
  {
   "cell_type": "markdown",
   "metadata": {},
   "source": [
    "Векторизация текста"
   ]
  },
  {
   "cell_type": "code",
   "execution_count": 271,
   "metadata": {},
   "outputs": [
    {
     "data": {
      "text/plain": [
       "(2000, 10000)"
      ]
     },
     "execution_count": 271,
     "metadata": {},
     "output_type": "execute_result"
    }
   ],
   "source": [
    "max_words = 10000\n",
    "cv = CountVectorizer(max_features=max_words, stop_words=stopwords_ru)\n",
    "sparse_matrix = cv.fit_transform(data[\"Текст рецензии\"]).toarray()\n",
    "sparse_matrix.shape"
   ]
  },
  {
   "cell_type": "markdown",
   "metadata": {},
   "source": [
    "Разделение на тренировочную, валидационную и тестовую выборки"
   ]
  },
  {
   "cell_type": "code",
   "execution_count": 253,
   "metadata": {},
   "outputs": [
    {
     "name": "stdout",
     "output_type": "stream",
     "text": [
      "<class 'numpy.ndarray'> ['good' 'bad' 'good' 'good' 'bad' 'bad' 'good' 'bad' 'good' 'bad' 'bad'\n",
      " 'good' 'bad' 'good' 'bad' 'good' 'good' 'bad' 'good' 'good' 'bad' 'good'\n",
      " 'good' 'bad' 'good' 'bad' 'good' 'bad' 'bad' 'bad' 'bad' 'bad' 'bad'\n",
      " 'good' 'bad' 'good' 'bad' 'bad' 'bad' 'good' 'good' 'good' 'good' 'good'\n",
      " 'good' 'bad' 'bad' 'bad' 'good' 'good' 'good' 'bad' 'bad' 'good' 'bad'\n",
      " 'bad' 'bad' 'bad' 'bad' 'bad' 'good' 'good' 'good' 'bad' 'bad' 'good'\n",
      " 'good' 'good' 'good' 'bad' 'bad' 'bad' 'good' 'bad' 'bad' 'bad' 'good'\n",
      " 'bad' 'good' 'good' 'bad' 'good' 'good' 'good' 'bad' 'bad' 'bad' 'good'\n",
      " 'good' 'bad' 'bad' 'bad' 'good' 'bad' 'bad' 'good' 'good' 'bad' 'bad'\n",
      " 'bad' 'good' 'good' 'good' 'good' 'bad' 'bad' 'good' 'good' 'bad' 'good'\n",
      " 'bad' 'bad' 'good' 'good' 'good' 'good' 'bad' 'bad' 'good' 'good' 'good'\n",
      " 'bad' 'bad' 'good' 'good' 'good' 'good' 'good' 'bad' 'bad' 'good' 'bad'\n",
      " 'good' 'bad' 'bad' 'good' 'good' 'good' 'bad' 'bad' 'bad' 'good' 'bad'\n",
      " 'good' 'bad' 'bad' 'good' 'good' 'good' 'good' 'good' 'bad' 'good' 'good'\n",
      " 'good' 'good' 'good' 'bad' 'bad' 'good' 'bad' 'good' 'good' 'good' 'bad'\n",
      " 'good' 'good' 'bad' 'bad' 'bad' 'bad' 'bad' 'good' 'bad' 'bad' 'good'\n",
      " 'bad' 'good' 'bad' 'bad' 'bad' 'bad' 'bad' 'good' 'good' 'bad' 'bad'\n",
      " 'bad' 'bad' 'bad' 'good' 'bad' 'bad' 'bad' 'good' 'good' 'bad' 'bad'\n",
      " 'bad' 'good' 'bad' 'good' 'good' 'bad' 'bad' 'bad' 'good' 'good' 'good'\n",
      " 'good' 'good' 'bad' 'good' 'good' 'bad' 'good' 'bad' 'good' 'bad' 'bad'\n",
      " 'bad' 'good' 'bad' 'bad' 'good' 'bad' 'bad' 'good' 'good' 'good' 'bad'\n",
      " 'good' 'bad' 'bad' 'bad' 'good' 'bad' 'good' 'good' 'bad' 'bad' 'good'\n",
      " 'good' 'good' 'bad' 'bad' 'bad' 'good' 'good' 'bad' 'bad' 'bad' 'good'\n",
      " 'good' 'good' 'good' 'good' 'bad' 'bad' 'bad' 'good' 'good' 'bad' 'good'\n",
      " 'good' 'bad' 'good' 'bad' 'bad' 'good' 'bad' 'bad' 'bad' 'good' 'good'\n",
      " 'good' 'good' 'bad' 'good' 'bad' 'bad' 'bad' 'good' 'bad' 'bad' 'good'\n",
      " 'good' 'bad' 'bad' 'bad' 'good' 'good' 'bad' 'good' 'bad' 'good' 'good'\n",
      " 'good' 'bad' 'good' 'good' 'good' 'bad' 'good' 'bad' 'good' 'good' 'good'\n",
      " 'bad' 'bad' 'good' 'bad' 'bad' 'good' 'bad' 'good' 'good' 'bad' 'bad'\n",
      " 'bad' 'bad' 'good' 'good' 'good' 'good' 'bad' 'good' 'good' 'good' 'bad'\n",
      " 'bad' 'good' 'good' 'bad' 'bad' 'bad' 'bad' 'good' 'bad' 'good' 'bad'\n",
      " 'bad' 'good' 'bad' 'good' 'good' 'good' 'bad' 'bad' 'bad' 'bad' 'good'\n",
      " 'bad' 'good' 'bad' 'good' 'good' 'bad' 'good' 'bad' 'bad' 'good' 'bad'\n",
      " 'bad' 'good' 'good' 'good' 'bad' 'good' 'good' 'good' 'bad' 'bad' 'good'\n",
      " 'bad' 'bad' 'good' 'bad' 'good' 'bad' 'bad' 'bad' 'bad' 'bad' 'bad' 'bad'\n",
      " 'bad' 'good' 'bad' 'bad' 'bad' 'bad' 'good' 'bad' 'bad' 'bad' 'good'\n",
      " 'good' 'bad' 'bad']\n"
     ]
    }
   ],
   "source": [
    "x, x_test, y, y_test = train_test_split(sparse_matrix, np.array(data['Тип рецензии']), test_size=0.2,train_size=0.8)\n",
    "x_train, x_cv, y_train, y_cv = train_test_split(x, y, test_size = 0.5, train_size =0.5)"
   ]
  },
  {
   "cell_type": "markdown",
   "metadata": {},
   "source": [
    "Модель нейронной сети"
   ]
  },
  {
   "cell_type": "code",
   "execution_count": 231,
   "metadata": {},
   "outputs": [],
   "source": [
    "class LogisticRegression(nn.Module):\n",
    "    def __init__(self):\n",
    "        super(LogisticRegression, self).__init__()\n",
    "        self.linear1 = nn.Linear(10000, 100)\n",
    "        self.linear2 = nn.Linear(100, 20)\n",
    "        self.linear3 = nn.Linear(20, 2)\n",
    "        \n",
    "    def forward(self, x):\n",
    "        x = F.relu(self.linear1(x))\n",
    "        x = F.relu(self.linear2(x))\n",
    "        x = self.linear3(x)\n",
    "        return x\n",
    "    \n",
    "model = LogisticRegression()"
   ]
  },
  {
   "cell_type": "code",
   "execution_count": null,
   "metadata": {},
   "outputs": [],
   "source": [
    "criterion = nn.CrossEntropyLoss()\n",
    "optimizer = torch.optim.Adam(params=model.parameters() , lr=0.00444444)\n",
    "\n",
    "x_train = Variable(torch.from_numpy(x_train)).float()\n",
    "y_train = Variable(torch.from_numpy(y_train)).long()"
   ]
  },
  {
   "cell_type": "markdown",
   "metadata": {},
   "source": [
    "Цикл обучения"
   ]
  },
  {
   "cell_type": "code",
   "execution_count": 232,
   "metadata": {},
   "outputs": [
    {
     "name": "stdout",
     "output_type": "stream",
     "text": [
      "Epoch: 1, Loss: 0.6929489374160767, Accuracy: 51.5%\n",
      "Epoch: 2, Loss: 0.5787513256072998, Accuracy: 89.25%\n",
      "Epoch: 3, Loss: 0.4028812348842621, Accuracy: 90.75%\n",
      "Epoch: 4, Loss: 0.2581007778644562, Accuracy: 96.75%\n",
      "Epoch: 5, Loss: 0.15461890399456024, Accuracy: 98.5%\n",
      "Epoch: 6, Loss: 0.087285116314888, Accuracy: 99.5%\n",
      "Epoch: 7, Loss: 0.04760616645216942, Accuracy: 99.75%\n",
      "Epoch: 8, Loss: 0.02543751522898674, Accuracy: 99.875%\n",
      "Epoch: 9, Loss: 0.01376320980489254, Accuracy: 99.875%\n",
      "Epoch: 10, Loss: 0.0076898871921002865, Accuracy: 99.875%\n",
      "Epoch: 11, Loss: 0.004502651281654835, Accuracy: 99.875%\n",
      "Epoch: 12, Loss: 0.002760921139270067, Accuracy: 99.875%\n",
      "Epoch: 13, Loss: 0.0017309668473899364, Accuracy: 100.0%\n",
      "Epoch: 14, Loss: 0.0010671763448044658, Accuracy: 100.0%\n",
      "Epoch: 15, Loss: 0.0006374982767738402, Accuracy: 100.0%\n",
      "Epoch: 16, Loss: 0.00036918220575898886, Accuracy: 100.0%\n",
      "Epoch: 17, Loss: 0.00021160375035833567, Accuracy: 100.0%\n",
      "Epoch: 18, Loss: 0.00012374567450024188, Accuracy: 100.0%\n",
      "Epoch: 19, Loss: 7.466447277693078e-05, Accuracy: 100.0%\n",
      "Epoch: 20, Loss: 4.628019087249413e-05, Accuracy: 100.0%\n"
     ]
    }
   ],
   "source": [
    "epochs = 20\n",
    "model.train()\n",
    "loss_values = []\n",
    "for epoch in range(epochs):\n",
    "    optimizer.zero_grad()\n",
    "    y_pred = model(x_train)\n",
    "    loss = criterion(y_pred, y_train)\n",
    "    loss_values.append(loss.item())\n",
    "    pred = torch.max(y_pred, 1)[1].eq(y_train).sum()\n",
    "    acc = pred * 100.0 / len(x_train)\n",
    "    print('Epoch: {}, Loss: {}, Accuracy: {}%'.format(epoch+1, loss.item(), acc.numpy()))\n",
    "    loss.backward()\n",
    "    optimizer.step()"
   ]
  },
  {
   "cell_type": "code",
   "execution_count": 233,
   "metadata": {},
   "outputs": [],
   "source": [
    "x_test = Variable(torch.from_numpy(x_test)).float()\n",
    "y_test = Variable(torch.from_numpy(y_test)).long()"
   ]
  },
  {
   "cell_type": "markdown",
   "metadata": {},
   "source": [
    "Проверка точности"
   ]
  },
  {
   "cell_type": "code",
   "execution_count": 234,
   "metadata": {},
   "outputs": [
    {
     "name": "stdout",
     "output_type": "stream",
     "text": [
      "Accuracy : 89.25%\n"
     ]
    }
   ],
   "source": [
    "model.eval()\n",
    "with torch.no_grad():\n",
    "    y_pred = model(x_test)\n",
    "    loss = criterion(y_pred, y_test)\n",
    "    pred = torch.max(y_pred, 1)[1].eq(y_test).sum()\n",
    "    print (\"Accuracy : {}%\".format(100*pred/len(x_test)))"
   ]
  },
  {
   "cell_type": "markdown",
   "metadata": {},
   "source": [
    "График функции потерь от эпохи"
   ]
  },
  {
   "cell_type": "code",
   "execution_count": 235,
   "metadata": {},
   "outputs": [
    {
     "data": {
      "image/png": "[encoded data removed]",
      "text/plain": [
       "<Figure size 640x480 with 1 Axes>"
      ]
     },
     "metadata": {},
     "output_type": "display_data"
    }
   ],
   "source": [
    "plt.plot(loss_values)\n",
    "plt.title('Loss Value vs Epochs')\n",
    "plt.xlabel('Epochs')\n",
    "plt.ylabel('Loss')\n",
    "plt.legend(['Loss'])\n",
    "plt.show()"
   ]
  },
  {
   "cell_type": "markdown",
   "metadata": {},
   "source": [
    "Сохранение модели"
   ]
  },
  {
   "cell_type": "code",
   "execution_count": 236,
   "metadata": {},
   "outputs": [],
   "source": [
    "torch.save(model, \"c:\\\\Users\\\\Acer\\\\Documents\\\\py_lab_5\\\\model\")"
   ]
  },
  {
   "cell_type": "markdown",
   "metadata": {},
   "source": [
    "Загрузка модели"
   ]
  },
  {
   "cell_type": "code",
   "execution_count": 263,
   "metadata": {},
   "outputs": [
    {
     "data": {
      "text/plain": [
       "LogisticRegression(\n",
       "  (linear1): Linear(in_features=10000, out_features=100, bias=True)\n",
       "  (linear2): Linear(in_features=100, out_features=20, bias=True)\n",
       "  (linear3): Linear(in_features=20, out_features=2, bias=True)\n",
       ")"
      ]
     },
     "execution_count": 263,
     "metadata": {},
     "output_type": "execute_result"
    }
   ],
   "source": [
    "model = torch.load(\"c:\\\\Users\\\\Acer\\\\Documents\\\\py_lab_5\\\\model\")\n",
    "model.eval()"
   ]
  },
  {
   "cell_type": "markdown",
   "metadata": {},
   "source": [
    "Проверка работоспособности модели"
   ]
  },
  {
   "cell_type": "code",
   "execution_count": 268,
   "metadata": {},
   "outputs": [
    {
     "data": {
      "text/plain": [
       "array([[2, 2, 1, 1, 1, 1, 1, 1, 2, 1, 3, 1, 1, 1, 3, 1, 1, 1, 1, 1, 1, 1,\n",
       "        1, 1, 1, 1, 2, 1, 1, 2, 1, 1, 1, 1, 1, 1, 1, 1, 1, 1, 2, 1, 1, 1,\n",
       "        1, 1, 1, 1, 2, 1, 1, 3, 1, 3, 1, 1, 1, 1, 1, 1, 1, 1, 1, 1, 2, 1,\n",
       "        1, 1, 1, 1, 1, 1, 1, 1, 1, 1, 1, 1, 1, 1, 1, 1, 1, 1, 1, 1, 1, 1,\n",
       "        1, 1, 1, 1, 2, 1, 1, 1, 1, 1, 1, 1, 1, 1, 2, 1, 1, 1, 1, 2, 1, 1,\n",
       "        1, 1, 1, 1, 1, 1, 2, 2, 2, 1, 1, 1, 1, 1, 1, 1, 1, 1, 1, 2, 2, 2,\n",
       "        1, 2, 1, 1, 1, 1, 1, 1, 1, 1, 1, 1, 1, 2, 1, 1, 1, 1, 1, 2, 1, 1,\n",
       "        1, 1, 1, 1, 1, 1, 1, 2, 1, 2, 1, 1, 1, 1, 1, 1, 1, 1, 1, 1, 1, 1,\n",
       "        1, 1, 1, 1, 1, 1, 1, 1, 1, 1, 1, 1, 1, 1, 1, 1, 1, 1, 1, 1, 2, 1,\n",
       "        1, 1, 1, 1, 1, 1, 1, 1, 1, 1, 1, 2, 1, 1, 1, 1, 1, 1, 1, 1, 1, 1,\n",
       "        1, 1, 1, 1, 2, 1, 1, 1, 1, 1, 1, 1, 1, 1, 1, 1, 1, 1, 1, 1, 1, 1,\n",
       "        1, 2, 1, 2, 1, 1, 1, 1, 1, 1, 1, 1, 1, 1, 1, 1, 1, 1, 2, 1, 1, 2,\n",
       "        1, 1, 1, 1, 1, 1, 1, 2, 1, 1, 1, 1, 1, 1, 1, 1, 2, 1, 1, 1, 1, 1,\n",
       "        1, 1, 1, 1, 1]], dtype=int64)"
      ]
     },
     "execution_count": 268,
     "metadata": {},
     "output_type": "execute_result"
    }
   ],
   "source": [
    "data = my_module.create_dataframe(\"c:\\\\Users\\\\Acer\\\\Documents\\\\py_lab_5\\\\final.csv\")\n",
    "m = Mystem()\n",
    "data[\"Текст рецензии\"] = data[\"Текст рецензии\"].apply(my_module.del_trash)\n",
    "data[\"Текст рецензии\"] = data[\"Текст рецензии\"].apply(m.lemmatize)\n",
    "data[\"Текст рецензии\"] = data[\"Текст рецензии\"].apply(\"\".join)\n",
    "data[\"Текст рецензии\"] = data[\"Текст рецензии\"].apply(my_module.del_trash)\n",
    "change_labels = lambda x: 1 if x==\"good\" else 0\n",
    "data[\"Тип рецензии\"] = data[\"Тип рецензии\"].apply(change_labels)\n",
    "\n",
    "max_words = 10000\n",
    "cv = CountVectorizer(max_features=max_words, stop_words=stopwords_ru)\n",
    "sparse_matrix = cv.fit_transform(data[\"Текст рецензии\"]).toarray()\n",
    "sparse_matrix"
   ]
  },
  {
   "cell_type": "code",
   "execution_count": 265,
   "metadata": {},
   "outputs": [
    {
     "name": "stdout",
     "output_type": "stream",
     "text": [
      "tensor([[2., 2., 1., 1., 1., 1., 1., 1., 2., 1., 3., 1., 1., 1., 3., 1., 1., 1.,\n",
      "         1., 1., 1., 1., 1., 1., 1., 1., 2., 1., 1., 2., 1., 1., 1., 1., 1., 1.,\n",
      "         1., 1., 1., 1., 2., 1., 1., 1., 1., 1., 1., 1., 2., 1., 1., 3., 1., 3.,\n",
      "         1., 1., 1., 1., 1., 1., 1., 1., 1., 1., 2., 1., 1., 1., 1., 1., 1., 1.,\n",
      "         1., 1., 1., 1., 1., 1., 1., 1., 1., 1., 1., 1., 1., 1., 1., 1., 1., 1.,\n",
      "         1., 1., 2., 1., 1., 1., 1., 1., 1., 1., 1., 1., 2., 1., 1., 1., 1., 2.,\n",
      "         1., 1., 1., 1., 1., 1., 1., 1., 2., 2., 2., 1., 1., 1., 1., 1., 1., 1.,\n",
      "         1., 1., 1., 2., 2., 2., 1., 2., 1., 1., 1., 1., 1., 1., 1., 1., 1., 1.,\n",
      "         1., 2., 1., 1., 1., 1., 1., 2., 1., 1., 1., 1., 1., 1., 1., 1., 1., 2.,\n",
      "         1., 2., 1., 1., 1., 1., 1., 1., 1., 1., 1., 1., 1., 1., 1., 1., 1., 1.,\n",
      "         1., 1., 1., 1., 1., 1., 1., 1., 1., 1., 1., 1., 1., 1., 1., 1., 2., 1.,\n",
      "         1., 1., 1., 1., 1., 1., 1., 1., 1., 1., 1., 2., 1., 1., 1., 1., 1., 1.,\n",
      "         1., 1., 1., 1., 1., 1., 1., 1., 2., 1., 1., 1., 1., 1., 1., 1., 1., 1.,\n",
      "         1., 1., 1., 1., 1., 1., 1., 1., 1., 2., 1., 2., 1., 1., 1., 1., 1., 1.,\n",
      "         1., 1., 1., 1., 1., 1., 1., 1., 2., 1., 1., 2., 1., 1., 1., 1., 1., 1.,\n",
      "         1., 2., 1., 1., 1., 1., 1., 1., 1., 1., 2., 1., 1., 1., 1., 1., 1., 1.,\n",
      "         1., 1., 1.]]) tensor([0])\n"
     ]
    }
   ],
   "source": [
    "x_test = sparse_matrix\n",
    "y_test = np.array([0])\n",
    "\n",
    "criterion = nn.CrossEntropyLoss()\n",
    "optimizer = torch.optim.Adam(params=model.parameters() , lr=0.00444444)\n",
    "\n",
    "x_test = Variable(torch.from_numpy(x_test)).float()\n",
    "y_test = Variable(torch.from_numpy(y_test)).long()\n",
    "print(x_test, y_test)"
   ]
  },
  {
   "cell_type": "code",
   "execution_count": 267,
   "metadata": {},
   "outputs": [
    {
     "ename": "RuntimeError",
     "evalue": "mat1 and mat2 shapes cannot be multiplied (1x291 and 10000x100)",
     "output_type": "error",
     "traceback": [
      "\u001b[1;31m---------------------------------------------------------------------------\u001b[0m",
      "\u001b[1;31mRuntimeError\u001b[0m                              Traceback (most recent call last)",
      "Cell \u001b[1;32mIn[267], line 3\u001b[0m\n\u001b[0;32m      1\u001b[0m model\u001b[38;5;241m.\u001b[39meval()\n\u001b[0;32m      2\u001b[0m \u001b[38;5;28;01mwith\u001b[39;00m torch\u001b[38;5;241m.\u001b[39mno_grad():\n\u001b[1;32m----> 3\u001b[0m     y_pred \u001b[38;5;241m=\u001b[39m \u001b[43mmodel\u001b[49m\u001b[43m(\u001b[49m\u001b[43mx_test\u001b[49m\u001b[43m)\u001b[49m\n\u001b[0;32m      4\u001b[0m     y_pred\n",
      "File \u001b[1;32mc:\\Users\\Acer\\AppData\\Local\\Programs\\Python\\Python311\\Lib\\site-packages\\torch\\nn\\modules\\module.py:1518\u001b[0m, in \u001b[0;36mModule._wrapped_call_impl\u001b[1;34m(self, *args, **kwargs)\u001b[0m\n\u001b[0;32m   1516\u001b[0m     \u001b[38;5;28;01mreturn\u001b[39;00m \u001b[38;5;28mself\u001b[39m\u001b[38;5;241m.\u001b[39m_compiled_call_impl(\u001b[38;5;241m*\u001b[39margs, \u001b[38;5;241m*\u001b[39m\u001b[38;5;241m*\u001b[39mkwargs)  \u001b[38;5;66;03m# type: ignore[misc]\u001b[39;00m\n\u001b[0;32m   1517\u001b[0m \u001b[38;5;28;01melse\u001b[39;00m:\n\u001b[1;32m-> 1518\u001b[0m     \u001b[38;5;28;01mreturn\u001b[39;00m \u001b[38;5;28;43mself\u001b[39;49m\u001b[38;5;241;43m.\u001b[39;49m\u001b[43m_call_impl\u001b[49m\u001b[43m(\u001b[49m\u001b[38;5;241;43m*\u001b[39;49m\u001b[43margs\u001b[49m\u001b[43m,\u001b[49m\u001b[43m \u001b[49m\u001b[38;5;241;43m*\u001b[39;49m\u001b[38;5;241;43m*\u001b[39;49m\u001b[43mkwargs\u001b[49m\u001b[43m)\u001b[49m\n",
      "File \u001b[1;32mc:\\Users\\Acer\\AppData\\Local\\Programs\\Python\\Python311\\Lib\\site-packages\\torch\\nn\\modules\\module.py:1527\u001b[0m, in \u001b[0;36mModule._call_impl\u001b[1;34m(self, *args, **kwargs)\u001b[0m\n\u001b[0;32m   1522\u001b[0m \u001b[38;5;66;03m# If we don't have any hooks, we want to skip the rest of the logic in\u001b[39;00m\n\u001b[0;32m   1523\u001b[0m \u001b[38;5;66;03m# this function, and just call forward.\u001b[39;00m\n\u001b[0;32m   1524\u001b[0m \u001b[38;5;28;01mif\u001b[39;00m \u001b[38;5;129;01mnot\u001b[39;00m (\u001b[38;5;28mself\u001b[39m\u001b[38;5;241m.\u001b[39m_backward_hooks \u001b[38;5;129;01mor\u001b[39;00m \u001b[38;5;28mself\u001b[39m\u001b[38;5;241m.\u001b[39m_backward_pre_hooks \u001b[38;5;129;01mor\u001b[39;00m \u001b[38;5;28mself\u001b[39m\u001b[38;5;241m.\u001b[39m_forward_hooks \u001b[38;5;129;01mor\u001b[39;00m \u001b[38;5;28mself\u001b[39m\u001b[38;5;241m.\u001b[39m_forward_pre_hooks\n\u001b[0;32m   1525\u001b[0m         \u001b[38;5;129;01mor\u001b[39;00m _global_backward_pre_hooks \u001b[38;5;129;01mor\u001b[39;00m _global_backward_hooks\n\u001b[0;32m   1526\u001b[0m         \u001b[38;5;129;01mor\u001b[39;00m _global_forward_hooks \u001b[38;5;129;01mor\u001b[39;00m _global_forward_pre_hooks):\n\u001b[1;32m-> 1527\u001b[0m     \u001b[38;5;28;01mreturn\u001b[39;00m \u001b[43mforward_call\u001b[49m\u001b[43m(\u001b[49m\u001b[38;5;241;43m*\u001b[39;49m\u001b[43margs\u001b[49m\u001b[43m,\u001b[49m\u001b[43m \u001b[49m\u001b[38;5;241;43m*\u001b[39;49m\u001b[38;5;241;43m*\u001b[39;49m\u001b[43mkwargs\u001b[49m\u001b[43m)\u001b[49m\n\u001b[0;32m   1529\u001b[0m \u001b[38;5;28;01mtry\u001b[39;00m:\n\u001b[0;32m   1530\u001b[0m     result \u001b[38;5;241m=\u001b[39m \u001b[38;5;28;01mNone\u001b[39;00m\n",
      "Cell \u001b[1;32mIn[231], line 9\u001b[0m, in \u001b[0;36mLogisticRegression.forward\u001b[1;34m(self, x)\u001b[0m\n\u001b[0;32m      8\u001b[0m \u001b[38;5;28;01mdef\u001b[39;00m \u001b[38;5;21mforward\u001b[39m(\u001b[38;5;28mself\u001b[39m, x):\n\u001b[1;32m----> 9\u001b[0m     x \u001b[38;5;241m=\u001b[39m F\u001b[38;5;241m.\u001b[39mrelu(\u001b[38;5;28;43mself\u001b[39;49m\u001b[38;5;241;43m.\u001b[39;49m\u001b[43mlinear1\u001b[49m\u001b[43m(\u001b[49m\u001b[43mx\u001b[49m\u001b[43m)\u001b[49m)\n\u001b[0;32m     10\u001b[0m     x \u001b[38;5;241m=\u001b[39m F\u001b[38;5;241m.\u001b[39mrelu(\u001b[38;5;28mself\u001b[39m\u001b[38;5;241m.\u001b[39mlinear2(x))\n\u001b[0;32m     11\u001b[0m     x \u001b[38;5;241m=\u001b[39m \u001b[38;5;28mself\u001b[39m\u001b[38;5;241m.\u001b[39mlinear3(x)\n",
      "File \u001b[1;32mc:\\Users\\Acer\\AppData\\Local\\Programs\\Python\\Python311\\Lib\\site-packages\\torch\\nn\\modules\\module.py:1518\u001b[0m, in \u001b[0;36mModule._wrapped_call_impl\u001b[1;34m(self, *args, **kwargs)\u001b[0m\n\u001b[0;32m   1516\u001b[0m     \u001b[38;5;28;01mreturn\u001b[39;00m \u001b[38;5;28mself\u001b[39m\u001b[38;5;241m.\u001b[39m_compiled_call_impl(\u001b[38;5;241m*\u001b[39margs, \u001b[38;5;241m*\u001b[39m\u001b[38;5;241m*\u001b[39mkwargs)  \u001b[38;5;66;03m# type: ignore[misc]\u001b[39;00m\n\u001b[0;32m   1517\u001b[0m \u001b[38;5;28;01melse\u001b[39;00m:\n\u001b[1;32m-> 1518\u001b[0m     \u001b[38;5;28;01mreturn\u001b[39;00m \u001b[38;5;28;43mself\u001b[39;49m\u001b[38;5;241;43m.\u001b[39;49m\u001b[43m_call_impl\u001b[49m\u001b[43m(\u001b[49m\u001b[38;5;241;43m*\u001b[39;49m\u001b[43margs\u001b[49m\u001b[43m,\u001b[49m\u001b[43m \u001b[49m\u001b[38;5;241;43m*\u001b[39;49m\u001b[38;5;241;43m*\u001b[39;49m\u001b[43mkwargs\u001b[49m\u001b[43m)\u001b[49m\n",
      "File \u001b[1;32mc:\\Users\\Acer\\AppData\\Local\\Programs\\Python\\Python311\\Lib\\site-packages\\torch\\nn\\modules\\module.py:1527\u001b[0m, in \u001b[0;36mModule._call_impl\u001b[1;34m(self, *args, **kwargs)\u001b[0m\n\u001b[0;32m   1522\u001b[0m \u001b[38;5;66;03m# If we don't have any hooks, we want to skip the rest of the logic in\u001b[39;00m\n\u001b[0;32m   1523\u001b[0m \u001b[38;5;66;03m# this function, and just call forward.\u001b[39;00m\n\u001b[0;32m   1524\u001b[0m \u001b[38;5;28;01mif\u001b[39;00m \u001b[38;5;129;01mnot\u001b[39;00m (\u001b[38;5;28mself\u001b[39m\u001b[38;5;241m.\u001b[39m_backward_hooks \u001b[38;5;129;01mor\u001b[39;00m \u001b[38;5;28mself\u001b[39m\u001b[38;5;241m.\u001b[39m_backward_pre_hooks \u001b[38;5;129;01mor\u001b[39;00m \u001b[38;5;28mself\u001b[39m\u001b[38;5;241m.\u001b[39m_forward_hooks \u001b[38;5;129;01mor\u001b[39;00m \u001b[38;5;28mself\u001b[39m\u001b[38;5;241m.\u001b[39m_forward_pre_hooks\n\u001b[0;32m   1525\u001b[0m         \u001b[38;5;129;01mor\u001b[39;00m _global_backward_pre_hooks \u001b[38;5;129;01mor\u001b[39;00m _global_backward_hooks\n\u001b[0;32m   1526\u001b[0m         \u001b[38;5;129;01mor\u001b[39;00m _global_forward_hooks \u001b[38;5;129;01mor\u001b[39;00m _global_forward_pre_hooks):\n\u001b[1;32m-> 1527\u001b[0m     \u001b[38;5;28;01mreturn\u001b[39;00m \u001b[43mforward_call\u001b[49m\u001b[43m(\u001b[49m\u001b[38;5;241;43m*\u001b[39;49m\u001b[43margs\u001b[49m\u001b[43m,\u001b[49m\u001b[43m \u001b[49m\u001b[38;5;241;43m*\u001b[39;49m\u001b[38;5;241;43m*\u001b[39;49m\u001b[43mkwargs\u001b[49m\u001b[43m)\u001b[49m\n\u001b[0;32m   1529\u001b[0m \u001b[38;5;28;01mtry\u001b[39;00m:\n\u001b[0;32m   1530\u001b[0m     result \u001b[38;5;241m=\u001b[39m \u001b[38;5;28;01mNone\u001b[39;00m\n",
      "File \u001b[1;32mc:\\Users\\Acer\\AppData\\Local\\Programs\\Python\\Python311\\Lib\\site-packages\\torch\\nn\\modules\\linear.py:114\u001b[0m, in \u001b[0;36mLinear.forward\u001b[1;34m(self, input)\u001b[0m\n\u001b[0;32m    113\u001b[0m \u001b[38;5;28;01mdef\u001b[39;00m \u001b[38;5;21mforward\u001b[39m(\u001b[38;5;28mself\u001b[39m, \u001b[38;5;28minput\u001b[39m: Tensor) \u001b[38;5;241m-\u001b[39m\u001b[38;5;241m>\u001b[39m Tensor:\n\u001b[1;32m--> 114\u001b[0m     \u001b[38;5;28;01mreturn\u001b[39;00m \u001b[43mF\u001b[49m\u001b[38;5;241;43m.\u001b[39;49m\u001b[43mlinear\u001b[49m\u001b[43m(\u001b[49m\u001b[38;5;28;43minput\u001b[39;49m\u001b[43m,\u001b[49m\u001b[43m \u001b[49m\u001b[38;5;28;43mself\u001b[39;49m\u001b[38;5;241;43m.\u001b[39;49m\u001b[43mweight\u001b[49m\u001b[43m,\u001b[49m\u001b[43m \u001b[49m\u001b[38;5;28;43mself\u001b[39;49m\u001b[38;5;241;43m.\u001b[39;49m\u001b[43mbias\u001b[49m\u001b[43m)\u001b[49m\n",
      "\u001b[1;31mRuntimeError\u001b[0m: mat1 and mat2 shapes cannot be multiplied (1x291 and 10000x100)"
     ]
    }
   ],
   "source": [
    "model.eval()\n",
    "with torch.no_grad():\n",
    "    y_pred = model(x_test)\n",
    "    loss = criterion(y_pred, y_test)\n",
    "    pred = torch.max(y_pred, 1)[1].eq(y_test).sum()\n",
    "    print (\"Accuracy : {}%\".format(100*pred/len(x_test)))"
   ]
  }
 ],
 "metadata": {
  "kernelspec": {
   "display_name": "Python 3",
   "language": "python",
   "name": "python3"
  },
  "language_info": {
   "codemirror_mode": {
    "name": "ipython",
    "version": 3
   },
   "file_extension": ".py",
   "mimetype": "text/x-python",
   "name": "python",
   "nbconvert_exporter": "python",
   "pygments_lexer": "ipython3",
   "version": "3.11.4"
  }
 },
 "nbformat": 4,
 "nbformat_minor": 2
}
